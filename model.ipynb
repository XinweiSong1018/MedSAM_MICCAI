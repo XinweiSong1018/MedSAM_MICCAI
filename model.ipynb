{
 "cells": [
  {
   "cell_type": "code",
   "execution_count": 28,
   "id": "faa744c6-31d1-41a3-8366-27e1353a774d",
   "metadata": {},
   "outputs": [
    {
     "data": {
      "text/plain": [
       "True"
      ]
     },
     "execution_count": 28,
     "metadata": {},
     "output_type": "execute_result"
    }
   ],
   "source": [
    "import torch\n",
    "from segment_anything.modeling.mask_decoder import MaskDecoder\n",
    "from segment_anything.build_sam import _build_sam\n",
    "torch.cuda.is_available()"
   ]
  },
  {
   "cell_type": "code",
   "execution_count": 29,
   "id": "94347150-c112-4c13-911d-917bb473e717",
   "metadata": {},
   "outputs": [
    {
     "name": "stdout",
     "output_type": "stream",
     "text": [
      "using device:cuda\n"
     ]
    }
   ],
   "source": [
    "import os\n",
    "device = torch.device(\"cuda\" if torch.cuda.is_available() else \"cpu\")\n",
    "print(f\"using device:{device}\")\n",
    "os.environ[\"PYTORCH_CUDA_ALLOC_CONF\"] = \"expandable_segments:True\"\n",
    "torch.backends.cudnn.enabled = True"
   ]
  },
  {
   "cell_type": "code",
   "execution_count": 32,
   "id": "ef59e5c3-54de-4712-abd4-4f97e939b8e8",
   "metadata": {},
   "outputs": [],
   "source": [
    "from Hu.Gleason import *\n",
    "import Hu.utils as utils\n",
    "dataset =  get_dataset(imgdir='../../data/TrainImgs',\n",
    "                          maskdir='../../data/labels',\n",
    "                          train=True,\n",
    "                          val=False,\n",
    "                          test=False,\n",
    "                          transforms=get_transform(train=True))\n"
   ]
  },
  {
   "cell_type": "code",
   "execution_count": 33,
   "id": "0a508c64-c90c-47c0-a8a7-4d7187c2f1da",
   "metadata": {},
   "outputs": [
    {
     "data": {
      "text/plain": [
       "(tensor([[[ 2.2489,  2.2489,  2.2489,  ..., -2.1179, -2.1179, -2.1179],\n",
       "          [ 2.2489,  2.2489,  2.2489,  ..., -2.1179, -2.1179, -2.1179],\n",
       "          [ 2.2489,  2.2489,  2.2489,  ..., -2.1179, -2.1179, -2.1179],\n",
       "          ...,\n",
       "          [-2.1179, -2.1179, -2.1179,  ..., -2.1179, -2.1179, -2.1179],\n",
       "          [-2.1179, -2.1179, -2.1179,  ..., -2.1179, -2.1179, -2.1179],\n",
       "          [-2.1179, -2.1179, -2.1179,  ..., -2.1179, -2.1179, -2.1179]],\n",
       " \n",
       "         [[ 2.4286,  2.4286,  2.4286,  ..., -2.0357, -2.0357, -2.0357],\n",
       "          [ 2.4286,  2.4286,  2.4286,  ..., -2.0357, -2.0357, -2.0357],\n",
       "          [ 2.4286,  2.4286,  2.4286,  ..., -2.0357, -2.0357, -2.0357],\n",
       "          ...,\n",
       "          [-2.0357, -2.0357, -2.0357,  ..., -2.0357, -2.0357, -2.0357],\n",
       "          [-2.0357, -2.0357, -2.0357,  ..., -2.0357, -2.0357, -2.0357],\n",
       "          [-2.0357, -2.0357, -2.0357,  ..., -2.0357, -2.0357, -2.0357]],\n",
       " \n",
       "         [[ 2.6400,  2.6400,  2.6400,  ..., -1.8044, -1.8044, -1.8044],\n",
       "          [ 2.6400,  2.6400,  2.6400,  ..., -1.8044, -1.8044, -1.8044],\n",
       "          [ 2.6400,  2.6400,  2.6400,  ..., -1.8044, -1.8044, -1.8044],\n",
       "          ...,\n",
       "          [-1.8044, -1.8044, -1.8044,  ..., -1.8044, -1.8044, -1.8044],\n",
       "          [-1.8044, -1.8044, -1.8044,  ..., -1.8044, -1.8044, -1.8044],\n",
       "          [-1.8044, -1.8044, -1.8044,  ..., -1.8044, -1.8044, -1.8044]]]),\n",
       " tensor([[  0,   0,   0,  ..., 255, 255, 255],\n",
       "         [  0,   0,   0,  ..., 255, 255, 255],\n",
       "         [  0,   0,   0,  ..., 255, 255, 255],\n",
       "         ...,\n",
       "         [255, 255, 255,  ..., 255, 255, 255],\n",
       "         [255, 255, 255,  ..., 255, 255, 255],\n",
       "         [255, 255, 255,  ..., 255, 255, 255]]))"
      ]
     },
     "execution_count": 33,
     "metadata": {},
     "output_type": "execute_result"
    }
   ],
   "source": [
    "dataset[0]"
   ]
  },
  {
   "cell_type": "code",
   "execution_count": 19,
   "id": "e0279971-0f8f-41c3-b359-3f1523a5ac0c",
   "metadata": {},
   "outputs": [],
   "source": [
    "train_sampler = torch.utils.data.RandomSampler(dataset)\n",
    "data_loader = torch.utils.data.DataLoader(\n",
    "        dataset, batch_size=2,\n",
    "        sampler=train_sampler, num_workers=10,\n",
    "        collate_fn=utils.collate_fn, drop_last=True)"
   ]
  },
  {
   "cell_type": "code",
   "execution_count": 20,
   "id": "cb6cc9df-f2dd-45f8-be36-585b617b7fb4",
   "metadata": {},
   "outputs": [
    {
     "ename": "ValueError",
     "evalue": "not enough values to unpack (expected 4, got 2)",
     "output_type": "error",
     "traceback": [
      "\u001b[0;31m---------------------------------------------------------------------------\u001b[0m",
      "\u001b[0;31mValueError\u001b[0m                                Traceback (most recent call last)",
      "Cell \u001b[0;32mIn[20], line 1\u001b[0m\n\u001b[0;32m----> 1\u001b[0m \u001b[38;5;28;01mfor\u001b[39;00m step, (image, gt, bboxes, names_temp) \u001b[38;5;129;01min\u001b[39;00m \u001b[38;5;28menumerate\u001b[39m(data_loader):\n\u001b[1;32m      2\u001b[0m     \u001b[38;5;28mprint\u001b[39m(image\u001b[38;5;241m.\u001b[39mshape, gt\u001b[38;5;241m.\u001b[39mshape, bboxes)\n\u001b[1;32m      3\u001b[0m     \u001b[38;5;66;03m# show the example\u001b[39;00m\n",
      "\u001b[0;31mValueError\u001b[0m: not enough values to unpack (expected 4, got 2)"
     ]
    }
   ],
   "source": [
    "for step, (image, gt, bboxes, names_temp) in enumerate(data_loader):\n",
    "    print(image.shape, gt.shape, bboxes)\n",
    "    # show the example\n",
    "    _, axs = plt.subplots(1, 2, figsize=(25, 25))\n",
    "    idx = random.randint(0, 1)\n",
    "    axs[0].imshow(image[idx].cpu().permute(1, 2, 0).numpy())\n",
    "    gt = F.interpolate(gt.float(), size=(1024, 1024), mode=\"nearest\").long()  # shape: (2, 1, 1024, 1024)\n",
    "    bboxes = bboxes*(1024/256)\n",
    "    show_mask(gt[idx].cpu().numpy(), axs[0])\n",
    "    show_box(bboxes[idx].numpy(), axs[0])\n",
    "    axs[0].axis(\"off\")\n",
    "    # set title\n",
    "    axs[0].set_title(names_temp[idx])\n",
    "    idx = random.randint(0, 1)\n",
    "    axs[1].imshow(image[idx].cpu().permute(1, 2, 0).numpy())\n",
    "    show_mask(gt[idx].cpu().numpy(), axs[1])\n",
    "    show_box(bboxes[idx].numpy(), axs[1])\n",
    "    axs[1].axis(\"off\")\n",
    "    # set title\n",
    "    axs[1].set_title(names_temp[idx])\n",
    "    plt.show()\n",
    "    plt.subplots_adjust(wspace=0.01, hspace=0)\n",
    "    plt.close()\n",
    "    break"
   ]
  },
  {
   "cell_type": "code",
   "execution_count": 7,
   "id": "6ad4ca88-f689-4cf7-a67a-5f3c4c874e41",
   "metadata": {},
   "outputs": [
    {
     "name": "stderr",
     "output_type": "stream",
     "text": [
      "/tmp/ipykernel_192054/2601783359.py:2: FutureWarning: You are using `torch.load` with `weights_only=False` (the current default value), which uses the default pickle module implicitly. It is possible to construct malicious pickle data which will execute arbitrary code during unpickling (See https://github.com/pytorch/pytorch/blob/main/SECURITY.md#untrusted-models for more details). In a future release, the default value for `weights_only` will be flipped to `True`. This limits the functions that could be executed during unpickling. Arbitrary objects will no longer be allowed to be loaded via this mode unless they are explicitly allowlisted by the user via `torch.serialization.add_safe_globals`. We recommend you start setting `weights_only=True` for any use case where you don't have full control of the loaded file. Please open an issue on GitHub for any issues related to this experimental feature.\n",
      "  pretrained_state_dict = torch.load(checkpoint,map_location=device)\n"
     ]
    }
   ],
   "source": [
    "checkpoint = '../medsam_vit_b.pth'\n",
    "pretrained_state_dict = torch.load(checkpoint,map_location=device)"
   ]
  },
  {
   "cell_type": "code",
   "execution_count": 9,
   "id": "a74b82cc-f087-45c8-b4be-cf1914436a8b",
   "metadata": {},
   "outputs": [],
   "source": [
    "from segment_anything.modeling import *\n",
    "from functools import partial\n",
    "import torch.nn as nn\n",
    "\n",
    "\n",
    "class MedSAM(nn.Module):\n",
    "    def __init__(\n",
    "        self,\n",
    "        image_encoder,\n",
    "        mask_decoder,\n",
    "        prompt_encoder,\n",
    "    ):\n",
    "        super().__init__()\n",
    "        self.image_encoder = image_encoder\n",
    "        self.mask_decoder = mask_decoder\n",
    "        self.prompt_encoder = prompt_encoder\n",
    "        # freeze prompt encoder\n",
    "        \n",
    "        for param in self.prompt_encoder.parameters():\n",
    "            param.requires_grad = False\n",
    "        \n",
    "    def forward(self, image, box, dropout_prob=0.2):\n",
    "        image_embedding = self.image_encoder(image)  # (B, 256, 64, 64)\n",
    "        image_embedding = F.dropout(image_embedding, p=dropout_prob, training=self.training)\n",
    "\n",
    "        # do not compute gradients for prompt encoder\n",
    "        with torch.no_grad():\n",
    "            box_torch = torch.as_tensor(box, dtype=torch.float32, device=image.device)\n",
    "            if len(box_torch.shape) == 2:\n",
    "                box_torch = box_torch[:, None, :]  # (B, 1, 4)\n",
    "            sparse_embeddings, dense_embeddings = self.prompt_encoder(\n",
    "                points=None,\n",
    "                boxes=box_torch,\n",
    "                masks=None,\n",
    "            )\n",
    "        low_res_masks, _ = self.mask_decoder(\n",
    "            image_embeddings=image_embedding,  # (B, 256, 64, 64)\n",
    "            image_pe=self.prompt_encoder.get_dense_pe(),  # (1, 256, 64, 64)\n",
    "            sparse_prompt_embeddings=sparse_embeddings,  # (B, 2, 256)\n",
    "            dense_prompt_embeddings=dense_embeddings,  # (B, 256, 64, 64)\n",
    "            multimask_output=True,\n",
    "        )\n",
    "        low_res_masks = F.dropout(low_res_masks, p=dropout_prob, training=self.training)\n",
    "        ori_res_masks = F.interpolate(\n",
    "            low_res_masks,\n",
    "            size=(image.shape[2], image.shape[3]),\n",
    "            mode=\"bilinear\",\n",
    "            align_corners=False,\n",
    "        )\n",
    "        return ori_res_masks"
   ]
  },
  {
   "cell_type": "code",
   "execution_count": 10,
   "id": "2d229fce-91d0-4188-86a4-41f82f8998ab",
   "metadata": {},
   "outputs": [],
   "source": [
    "encoder_global_attn_indexes = [2, 5, 8, 11]\n",
    "\n",
    "num_class_sam_model = MedSAM(\n",
    "    image_encoder=ImageEncoderViT(\n",
    "        depth=12,\n",
    "        embed_dim=768,\n",
    "        img_size=1024,\n",
    "        mlp_ratio=4,\n",
    "        norm_layer=partial(torch.nn.LayerNorm, eps=1e-6),\n",
    "        num_heads=12,\n",
    "        patch_size=16,\n",
    "        qkv_bias=True,\n",
    "        use_rel_pos=True,\n",
    "        global_attn_indexes=encoder_global_attn_indexes,\n",
    "        window_size=14,\n",
    "        out_chans=256,\n",
    "    ),\n",
    "    mask_decoder=MaskDecoder(\n",
    "        num_multimask_outputs=3,\n",
    "        transformer=TwoWayTransformer(\n",
    "            depth=2,\n",
    "            embedding_dim=256,\n",
    "            mlp_dim=2048,\n",
    "            num_heads=8,\n",
    "        ),\n",
    "        transformer_dim=256,\n",
    "        iou_head_depth=3,\n",
    "        iou_head_hidden_dim=256,\n",
    "    ),\n",
    "    prompt_encoder=PromptEncoder(\n",
    "        embed_dim=256,\n",
    "        image_embedding_size=(64, 64),\n",
    "        input_image_size=(1024, 1024),\n",
    "        mask_in_chans=16,\n",
    "    )\n",
    ")\n",
    "\n",
    "num_class_sam_model = num_class_sam_model.to(device)\n",
    "num_class_model_state_dict = num_class_sam_model.state_dict()"
   ]
  },
  {
   "cell_type": "code",
   "execution_count": 12,
   "id": "148cb180-8e7f-4b4b-94d3-15a70e3594f4",
   "metadata": {},
   "outputs": [
    {
     "data": {
      "text/plain": [
       "<All keys matched successfully>"
      ]
     },
     "execution_count": 12,
     "metadata": {},
     "output_type": "execute_result"
    }
   ],
   "source": [
    "for name, param in pretrained_state_dict.items():\n",
    "    if name in num_class_model_state_dict and num_class_model_state_dict[name].shape == param.shape:\n",
    "        num_class_model_state_dict[name] = param\n",
    "# 加载适配的state_dict:\n",
    "num_class_sam_model.load_state_dict(num_class_model_state_dict, strict=False)\n"
   ]
  },
  {
   "cell_type": "code",
   "execution_count": null,
   "id": "ef546898-0b6a-4c7a-866f-57a7777c0209",
   "metadata": {},
   "outputs": [],
   "source": []
  }
 ],
 "metadata": {
  "kernelspec": {
   "display_name": "Python 3 (ipykernel)",
   "language": "python",
   "name": "python3"
  },
  "language_info": {
   "codemirror_mode": {
    "name": "ipython",
    "version": 3
   },
   "file_extension": ".py",
   "mimetype": "text/x-python",
   "name": "python",
   "nbconvert_exporter": "python",
   "pygments_lexer": "ipython3",
   "version": "3.10.15"
  }
 },
 "nbformat": 4,
 "nbformat_minor": 5
}
